{
 "cells": [
  {
   "cell_type": "markdown",
   "id": "670c9253",
   "metadata": {},
   "source": [
    "# Comparing Left, Right, and Midpoint Riemann Sums to the Exact Value of a Function's Area Under the Curve"
   ]
  },
  {
   "cell_type": "markdown",
   "id": "6147cd9e",
   "metadata": {},
   "source": [
    "Below is the comparison of the exact value of a function's area under the curve and the riemann sum values using different amounts of rectangles. Functions for left, right, and midpoint riemann sums were written so that any value of a, c, and n can be entered into the function. Rectangle values of 10,15, and 100 were used for each."
   ]
  },
  {
   "cell_type": "markdown",
   "id": "a0d073e4",
   "metadata": {},
   "source": [
    "## a=3, c=4, n=10,15,100"
   ]
  },
  {
   "cell_type": "markdown",
   "id": "bbfffcfa",
   "metadata": {},
   "source": [
    "## Integrate the function f(x)=$a^2$$xe^{-ax}$ over the invterval 0$\\le$x$\\le$c; for all values a>0"
   ]
  },
  {
   "cell_type": "markdown",
   "id": "5d8adba2",
   "metadata": {},
   "source": [
    "$\\int\\limits_0^4$$a^2$$xe^{-ax}dx$ =\n",
    "$\\int\\limits_0^4$$9$$xe^{-3x}dx$ =\n",
    "$9\\int\\limits_0^4$$xe^{-3x}dx$"
   ]
  },
  {
   "cell_type": "markdown",
   "id": "aace438e",
   "metadata": {},
   "source": [
    "$u=x$    $dv=e^-$$^3$$^x$\n",
    "\n",
    "$du=dx$    $v=$ $\\frac{-e^{-3x}}{3}$"
   ]
  },
  {
   "cell_type": "markdown",
   "id": "a80c6c56",
   "metadata": {},
   "source": [
    "$9$[$\\frac{-xe^{-3x}}{3}$-$\\int\\limits_0^4$$\\frac{-e^{-3x}}{3}dx$]"
   ]
  },
  {
   "cell_type": "markdown",
   "id": "6ac4b432",
   "metadata": {},
   "source": [
    "$9$[$\\frac{-xe^{-3x}}{3}$+$^1/_3$$\\int\\limits_0^4$$e^{-3x}dx$]"
   ]
  },
  {
   "cell_type": "markdown",
   "id": "cb450be5",
   "metadata": {},
   "source": [
    "$u= -3x$\n",
    "\n",
    "$du= -3dx$"
   ]
  },
  {
   "cell_type": "markdown",
   "id": "fe2f74d9",
   "metadata": {},
   "source": [
    "$9$[$\\frac{-xe^{-3x}}{3}$-$^1/_9$$\\int\\limits_0^4$$e^udu$]"
   ]
  },
  {
   "cell_type": "markdown",
   "id": "72d6d8b1",
   "metadata": {},
   "source": [
    "$9$[$\\frac{-xe^{-3x}}{3}$-$\\frac{e^{-3x}}{9}$] 0$\\le$x$\\le$4"
   ]
  },
  {
   "cell_type": "markdown",
   "id": "2cf308c3",
   "metadata": {},
   "source": [
    "$-3xe^{-3x}-e^{-3x}$ 0$\\le$x$\\le$4"
   ]
  },
  {
   "cell_type": "markdown",
   "id": "29b6c728",
   "metadata": {},
   "source": [
    "[$-3(4)e^{-3(4)}-e^{-3(4)}$]$-$[$-3(0)e^{-3(0)}-e^{-3(0)}$]"
   ]
  },
  {
   "cell_type": "markdown",
   "id": "c17560b9",
   "metadata": {},
   "source": [
    "The exact answer is $0.99992012$"
   ]
  },
  {
   "cell_type": "markdown",
   "id": "e36227ac",
   "metadata": {},
   "source": [
    "## For the riemann sums, we rounded e to 2.718."
   ]
  },
  {
   "cell_type": "markdown",
   "id": "12197f18",
   "metadata": {},
   "source": [
    "## Left Point Riemann Sum"
   ]
  },
  {
   "cell_type": "code",
   "execution_count": 2,
   "id": "579cb36d",
   "metadata": {},
   "outputs": [
    {
     "name": "stdout",
     "output_type": "stream",
     "text": [
      "0.8882\n",
      "4.87 µs ± 19.8 ns per loop (mean ± std. dev. of 7 runs, 100,000 loops each)\n"
     ]
    }
   ],
   "source": [
    "def left_point(startinter,endinter,a,n):\n",
    "    total=0\n",
    "    for i in range(n):\n",
    "        width=((endinter-startinter)/n)\n",
    "        height=(a**2)*(((endinter-startinter)/n)*i)*(2.718**(-a*((endinter-startinter)/n)*i))\n",
    "        area=height*width\n",
    "        total+=area\n",
    "    return total\n",
    "\n",
    "print(round(left_point(0,4,3,10),4))\n",
    "%timeit left_point(0,4,3,10)"
   ]
  },
  {
   "cell_type": "code",
   "execution_count": 3,
   "id": "72c78906",
   "metadata": {},
   "outputs": [
    {
     "name": "stdout",
     "output_type": "stream",
     "text": [
      "0.9484\n",
      "7.19 µs ± 24 ns per loop (mean ± std. dev. of 7 runs, 100,000 loops each)\n"
     ]
    }
   ],
   "source": [
    "print(round(left_point(0,4,3,15),4))\n",
    "%timeit left_point(0,4,3,15)"
   ]
  },
  {
   "cell_type": "code",
   "execution_count": 4,
   "id": "06bf6e35",
   "metadata": {},
   "outputs": [
    {
     "name": "stdout",
     "output_type": "stream",
     "text": [
      "0.9989\n",
      "46.9 µs ± 178 ns per loop (mean ± std. dev. of 7 runs, 10,000 loops each)\n"
     ]
    }
   ],
   "source": [
    "print(round(left_point(0,4,3,100),4))\n",
    "%timeit left_point(0,4,3,100)"
   ]
  },
  {
   "cell_type": "markdown",
   "id": "94362b57",
   "metadata": {},
   "source": [
    "## Right Point Riemann Sum"
   ]
  },
  {
   "cell_type": "code",
   "execution_count": 5,
   "id": "a7512e6e",
   "metadata": {},
   "outputs": [
    {
     "name": "stdout",
     "output_type": "stream",
     "text": [
      "0.8883\n",
      "5.1 µs ± 46.2 ns per loop (mean ± std. dev. of 7 runs, 100,000 loops each)\n"
     ]
    }
   ],
   "source": [
    "def right_point(startinter,endinter,a,n):\n",
    "    total=0\n",
    "    for i in range(n):\n",
    "        width=((endinter-startinter)/n)\n",
    "        height=(a**2)*(((endinter-startinter)/n)*(i+1))*(2.718**(-a*((endinter-startinter)/n)*(i+1)))\n",
    "        area=height*width\n",
    "        total+=area\n",
    "    return total\n",
    "\n",
    "print(round(right_point(0,4,3,10),4))\n",
    "%timeit right_point(0,4,3,10)"
   ]
  },
  {
   "cell_type": "code",
   "execution_count": 6,
   "id": "e641145a",
   "metadata": {},
   "outputs": [
    {
     "name": "stdout",
     "output_type": "stream",
     "text": [
      "0.9485\n",
      "7.56 µs ± 12.4 ns per loop (mean ± std. dev. of 7 runs, 100,000 loops each)\n"
     ]
    }
   ],
   "source": [
    "print(round(right_point(0,4,3,15),4))\n",
    "%timeit right_point(0,4,3,15)"
   ]
  },
  {
   "cell_type": "code",
   "execution_count": 7,
   "id": "1a213a10",
   "metadata": {},
   "outputs": [
    {
     "name": "stdout",
     "output_type": "stream",
     "text": [
      "0.9989\n",
      "48.9 µs ± 368 ns per loop (mean ± std. dev. of 7 runs, 10,000 loops each)\n"
     ]
    }
   ],
   "source": [
    "print(round(right_point(0,4,3,100),4))\n",
    "%timeit right_point(0,4,3,100)"
   ]
  },
  {
   "cell_type": "markdown",
   "id": "3d0df71d",
   "metadata": {},
   "source": [
    "## Midpoint Riemann Sum"
   ]
  },
  {
   "cell_type": "code",
   "execution_count": 8,
   "id": "1539bbae",
   "metadata": {},
   "outputs": [
    {
     "name": "stdout",
     "output_type": "stream",
     "text": [
      "1.053\n",
      "5.25 µs ± 21.6 ns per loop (mean ± std. dev. of 7 runs, 100,000 loops each)\n"
     ]
    }
   ],
   "source": [
    "def midpoint(startinter,endinter,a,n):\n",
    "    total=0\n",
    "    for i in range(n):\n",
    "        width=(((endinter-startinter))/n)\n",
    "        height=(a**2)*(((endinter-startinter)/n)*(i+.5))*(2.718**(-a*((endinter-startinter)/n)*(i+.5)))\n",
    "        area=height*width\n",
    "        total+=area\n",
    "    return total\n",
    "\n",
    "print(round(midpoint(0,4,3,10),4))\n",
    "%timeit midpoint(0,4,3,10)"
   ]
  },
  {
   "cell_type": "code",
   "execution_count": 9,
   "id": "65584ed6",
   "metadata": {},
   "outputs": [
    {
     "name": "stdout",
     "output_type": "stream",
     "text": [
      "1.0253\n",
      "7.72 µs ± 9.47 ns per loop (mean ± std. dev. of 7 runs, 100,000 loops each)\n"
     ]
    }
   ],
   "source": [
    "print(round(midpoint(0,4,3,15),4))\n",
    "%timeit midpoint(0,4,3,15)"
   ]
  },
  {
   "cell_type": "code",
   "execution_count": 10,
   "id": "cc26600d",
   "metadata": {},
   "outputs": [
    {
     "name": "stdout",
     "output_type": "stream",
     "text": [
      "1.0007\n",
      "50.1 µs ± 44.4 ns per loop (mean ± std. dev. of 7 runs, 10,000 loops each)\n"
     ]
    }
   ],
   "source": [
    "print(round(midpoint(0,4,3,100),4))\n",
    "%timeit midpoint(0,4,3,100)"
   ]
  },
  {
   "cell_type": "markdown",
   "id": "1d962e69",
   "metadata": {},
   "source": [
    "## Final Results"
   ]
  },
  {
   "cell_type": "markdown",
   "id": "71c2595d",
   "metadata": {},
   "source": [
    "Exact value: 0.99992012"
   ]
  },
  {
   "cell_type": "markdown",
   "id": "10376566",
   "metadata": {},
   "source": [
    "| n=10 | n=15 | n=100 |\n",
    "| :- | -: | :-: |\n",
    "|left: 0.8882| left: 0.9484| left: 0.9989|\n",
    "|right: 0.8883| right:  0.9485| right:0.9989|\n",
    "|mid: 1.053| mid: 1.0253| mid: 1.0007|"
   ]
  },
  {
   "cell_type": "markdown",
   "id": "e8c51e57",
   "metadata": {},
   "source": [
    "Based on the table, right point sums produce the greatest output, left point sums are second, and midpoint sums produce the lowest output. In comparison to the exact value, using 100 rectangles and right point riemann sum gave us the closest answer. Using midpoint riemann sum gave an extreme underestimate. The more rectangles you use, the closer your answer is to the exact answer."
   ]
  },
  {
   "cell_type": "markdown",
   "id": "345f76dd",
   "metadata": {},
   "source": [
    "| Left Point Time | Right Point Time | Midpoint Time |\n",
    "| :- | -: | :-: |\n",
    "|n=10: 4.87 µs ± 19.8 ns per loop|n=10: 5.1 µs ± 46.2 ns per loop|n=10: 5.25 µs ± 21.6 ns per loop|\n",
    "|n=15: 7.19 µs ± 24 ns per loop|n=15: 7.56 µs ± 12.4 ns per loop|n=15: 7.72 µs ± 9.47 ns per loop|\n",
    "|n=100: 46.9 µs ± 178 ns per loop|n=100: 48.9 µs ± 368 ns per loop|n=100: 50.1 µs ± 44.4 ns per loop|"
   ]
  },
  {
   "cell_type": "markdown",
   "id": "3fbba38d",
   "metadata": {},
   "source": [
    "Using \"timeit\" us means microseconds. The fastest function runs for left point, then right point, then midpoint. Looking further, only using 10 rectangles runs the fastest and 100 runs the slowest. This makes sense considering the function runs through every value in the range. So, it is going to be faster when going through a range of 10 versus a range of 100"
   ]
  },
  {
   "cell_type": "markdown",
   "id": "e5362967",
   "metadata": {},
   "source": [
    "In conclusion, using a higher amount of rectangles and right riemann sum gives you the closest answer to the exact answer."
   ]
  }
 ],
 "metadata": {
  "kernelspec": {
   "display_name": "Python 3 (ipykernel)",
   "language": "python",
   "name": "python3"
  },
  "language_info": {
   "codemirror_mode": {
    "name": "ipython",
    "version": 3
   },
   "file_extension": ".py",
   "mimetype": "text/x-python",
   "name": "python",
   "nbconvert_exporter": "python",
   "pygments_lexer": "ipython3",
   "version": "3.9.12"
  }
 },
 "nbformat": 4,
 "nbformat_minor": 5
}
